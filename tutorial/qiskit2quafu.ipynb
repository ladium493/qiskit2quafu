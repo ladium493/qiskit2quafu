{
 "cells": [
  {
   "cell_type": "code",
   "execution_count": null,
   "metadata": {
    "pycharm": {
     "name": "#%%\n"
    }
   },
   "outputs": [],
   "source": [
    "# 安装所需的库 (qiskit和pyquafu)\n",
    "# 已安装则可跳过\n",
    "! pip install qiskit\n",
    "! pip install pyquafu\n",
    "! pip install pylatexenc\n",
    "! pip install qiskit2quafu"
   ]
  },
  {
   "cell_type": "code",
   "execution_count": null,
   "metadata": {
    "pycharm": {
     "name": "#%%\n"
    }
   },
   "outputs": [],
   "source": [
    "# 导入所需的库\n",
    "from qiskit import QuantumCircuit\n",
    "from qiskit.quantum_info import Operator\n",
    "from qiskit2quafu import qiskit2quafu\n",
    "from quafu import User, Task"
   ]
  },
  {
   "cell_type": "code",
   "execution_count": null,
   "metadata": {
    "pycharm": {
     "name": "#%%\n"
    }
   },
   "outputs": [],
   "source": [
    "# 使用qiskit创建一个电路\n",
    "qiskitCircuit = QuantumCircuit(4)\n",
    "qiskitCircuit.h([0,1,2,3])\n",
    "qiskitCircuit.mcx([0,1,2],3)\n",
    "qiskitCircuit.ry(0.6,0)\n",
    "permute = Operator([[0, 0, 1, 0, 0, 0, 0, 0],\n",
    "                    [1, 0, 0, 0, 0, 0, 0, 0],\n",
    "                    [0, 1, 0, 0, 0, 0, 0, 0],\n",
    "                    [0, 0, 0, 1, 0, 0, 0, 0],\n",
    "                    [0, 0, 0, 0, 0, 0, 0, 1],\n",
    "                    [0, 0, 0, 0, 0, 1, 0, 0],\n",
    "                    [0, 0, 0, 0, 0, 0, 1, 0],\n",
    "                    [0, 0, 0, 0, 1, 0, 0, 0]])\n",
    "qiskitCircuit.unitary(permute, [0,1,3], label='P')\n",
    "# 显示电路\n",
    "qiskitCircuit.draw(output='mpl')"
   ]
  },
  {
   "cell_type": "code",
   "execution_count": null,
   "metadata": {
    "collapsed": false,
    "pycharm": {
     "name": "#%%\n"
    }
   },
   "outputs": [],
   "source": [
    "# 从MQTBench_qasm载入基准线路\n",
    "# 测试库中文件最后的数字表示电路位数，机器支持比特数需要大于电路位数\n",
    "file = 'MQTBench_qasm/qpeexact_indep_qiskit_5.qasm'\n",
    "qiskit_qc = QuantumCircuit.from_qasm_file(file)\n",
    "qiskit_qc.draw(output='mpl')"
   ]
  },
  {
   "cell_type": "code",
   "execution_count": null,
   "metadata": {
    "pycharm": {
     "name": "#%%\n"
    }
   },
   "outputs": [],
   "source": [
    "# 进行转译并返回两个对象: quafu电路和转译后的电路字符串\n",
    "quafu_gates = ['cx','cy','cz','cp','u1','u2','u3','h','id','swap','cswap','p','rx','ry',\n",
    "               'rz','x','y','z','s','sdg','t','tdg','sx','ccx','rxx','ryy','rzz']\n",
    "quafuCircuit, transpiled_qasm = qiskit2quafu(qiskitCircuit, basis_gates=quafu_gates)\n",
    "# 显示转译后的电路\n",
    "quafuCircuit.draw_circuit()"
   ]
  },
  {
   "cell_type": "code",
   "execution_count": null,
   "metadata": {
    "pycharm": {
     "name": "#%%\n"
    }
   },
   "outputs": [],
   "source": [
    "# 电路准备完成，接下来设置quafu用户信息\n",
    "# 进入 http://quafu.baqis.ac.cn 注册\n",
    "\n",
    "# 注册并登录后, 在主页右上部分找到API Token\n",
    "# 复制并在这里填入APi Token\n",
    "api_token='YTlsFPF0wZ50RDCwn1L1BbE5rmpQdXn21XtEI55po_n.Qf5ATO3ETO1kjNxojIwhXZiwCMxMjM6ICZpJye.9JiN1IzUIJiOicGbhJCLiQ1VKJiOiAXe0Jye'\n",
    "\n",
    "# 填入想使用的机器\n",
    "# 可选 \"ScQ-P10\", \"ScQ-P18\", \"ScQ-P136\"\n",
    "backend = \"ScQ-P136\"\n",
    "\n",
    "# 创建用户对象\n",
    "user = User()\n",
    "user.save_apitoken(api_token)"
   ]
  },
  {
   "cell_type": "code",
   "execution_count": null,
   "metadata": {
    "pycharm": {
     "name": "#%%\n"
    }
   },
   "outputs": [],
   "source": [
    "# 上传任务并获取任务编号\n",
    "task = Task()\n",
    "task.config(backend=backend, shots=3000, compile=True, priority=2)\n",
    "task_id = task.send(quafuCircuit, wait=False, name='', group='g').taskid\n",
    "print ('The task id is:',task_id)"
   ]
  },
  {
   "cell_type": "code",
   "execution_count": null,
   "metadata": {
    "collapsed": false,
    "pycharm": {
     "name": "#%%\n"
    }
   },
   "outputs": [],
   "source": [
    "# 获取任务状态, 完成则显示结果\n",
    "# 如果任务未完成, 稍等片刻之后重新执行这个单元格即可\n",
    "task_status = task.retrieve(task_id).task_status\n",
    "if task_status == 'In Queue' or task_status == 'Running':\n",
    "    print(\"The current task status is '%s', please wait.\" % task_status)\n",
    "elif task_status == 'Completed':\n",
    "    print(\"The task execution has completed and the result has been returned.\")\n",
    "    res = task.retrieve(task_id)\n",
    "    res.plot_probabilities()\n",
    "    \n",
    "    \n",
    "'''\n",
    "['cx','cy','cz','cp','u1','u2','u3','h','id','swap','cswap','p','rx','ry',\n",
    "               'rz','x','y','z','s','sdg','t','tdg','sx','ccx','rxx','ryy','rzz']\n",
    "'''"
   ]
  }
 ],
 "metadata": {
  "kernelspec": {
   "display_name": "qlib",
   "language": "python",
   "name": "python3"
  },
  "language_info": {
   "codemirror_mode": {
    "name": "ipython",
    "version": 3
   },
   "file_extension": ".py",
   "mimetype": "text/x-python",
   "name": "python",
   "nbconvert_exporter": "python",
   "pygments_lexer": "ipython3",
   "version": "3.9.6"
  },
  "orig_nbformat": 4
 },
 "nbformat": 4,
 "nbformat_minor": 2
}
