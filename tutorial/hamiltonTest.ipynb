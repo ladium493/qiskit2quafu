{
 "cells": [
  {
   "cell_type": "markdown",
   "metadata": {},
   "source": [
    "#### 升级或安装qiskit2quafu库"
   ]
  },
  {
   "cell_type": "code",
   "execution_count": null,
   "metadata": {},
   "outputs": [],
   "source": [
    "# 安装使用这个：\n",
    "! pip install qiskit2quafu"
   ]
  },
  {
   "cell_type": "code",
   "execution_count": null,
   "metadata": {},
   "outputs": [],
   "source": [
    "# 升级使用这个：\n",
    "! pip install --upgrade qiskit2quafu"
   ]
  },
  {
   "cell_type": "markdown",
   "metadata": {},
   "source": [
    "#### 导入所需的库"
   ]
  },
  {
   "cell_type": "code",
   "execution_count": null,
   "metadata": {},
   "outputs": [],
   "source": [
    "from qiskit2quafu import *\n",
    "from qiskit.circuit.library import TwoLocal\n",
    "from quafu import User, Task"
   ]
  },
  {
   "cell_type": "markdown",
   "metadata": {},
   "source": [
    "#### 创建ansatz电路并以指定格式创建输入变量"
   ]
  },
  {
   "cell_type": "code",
   "execution_count": null,
   "metadata": {},
   "outputs": [],
   "source": [
    "# 使用TwoLocal电路作为ansatz\n",
    "# ansatz = TwoLocal(3, 'ry', 'cx', 'linear', reps=2, insert_barriers=True)\n",
    "ansatz = TwoLocal(2, rotation_blocks='ry', entanglement_blocks='cx')\n",
    "print(ansatz)\n",
    "print(len(ansatz.parameters))\n",
    "# 将输入编辑为指定格式\n",
    "# 格式:  i = [ [ansatz 1, Hamilton 1, [parameter LIST 1]],  \n",
    "#              [ansatz 2, Hamilton 2, [parameter LIST 2]], ...]\n",
    "\n",
    "i1 = [ [ansatz, 'XYI', [1.0]*9] ]\n",
    "i2 = [ [ansatz, 'XYX', [1.0]*9], [ansatz, 'XYH', [2.0]*9] ]\n",
    "i3 = [ [ansatz, 'XYZ', [1.0,2.0,3.0,4.0,5.0,6.0,7.0,8.0,9.0]] ]\n",
    "i4 = [ [ansatz, 'XY', [1.0]*8] ]"
   ]
  },
  {
   "cell_type": "markdown",
   "metadata": {},
   "source": [
    "#### 使用 hamilton2quafu 转换电路"
   ]
  },
  {
   "cell_type": "code",
   "execution_count": null,
   "metadata": {},
   "outputs": [],
   "source": [
    "# 输出是Quafu电路格式的列表\n",
    "# 输出的电路可以直接上传到云平台\n",
    "trans = hamilton2quafu(i4,reverse=True)\n",
    "sample = trans[0]\n",
    "sample.draw_circuit()\n",
    "sample.plot_circuit()"
   ]
  },
  {
   "cell_type": "markdown",
   "metadata": {},
   "source": [
    "#### 上传至云平台"
   ]
  },
  {
   "cell_type": "code",
   "execution_count": null,
   "metadata": {},
   "outputs": [],
   "source": [
    "# 填入自己的token\n",
    "api_token='wtx_48SZWeyxtWaLsaQ8fOmix1TX0Bg66ZcENXIrsul.QfzgjM1YTO5kjNxojIwhXZiwCMxMjM6ICZpJye.9JiN1IzUIJiOicGbhJCLiQ1VKJiOiAXe0Jye'\n",
    "\n",
    "# 从 \"ScQ-P10\", \"ScQ-P18\", \"ScQ-P136\" 选择一台\n",
    "backend = \"ScQ-P136\"\n",
    "\n",
    "# 创建用户对象\n",
    "user = User()\n",
    "user.save_apitoken(api_token)\n",
    "\n",
    "# 返回任务id，测试结果和期望值\n",
    "task = Task()\n",
    "task.config(backend=backend, shots=3000, compile=True)\n",
    "send= task.send(sample, wait=True, name='', group='g')\n",
    "task_id = send.taskid\n",
    "result = send.res\n",
    "print ('The task id is:',task_id)\n",
    "print ('Result is:',result)\n",
    "print ('Energy of hamilton is:',get_expect_value(result))"
   ]
  }
 ],
 "metadata": {
  "kernelspec": {
   "display_name": "Python 3",
   "language": "python",
   "name": "python3"
  },
  "language_info": {
   "codemirror_mode": {
    "name": "ipython",
    "version": 3
   },
   "file_extension": ".py",
   "mimetype": "text/x-python",
   "name": "python",
   "nbconvert_exporter": "python",
   "pygments_lexer": "ipython3",
   "version": "3.9.6"
  }
 },
 "nbformat": 4,
 "nbformat_minor": 2
}
